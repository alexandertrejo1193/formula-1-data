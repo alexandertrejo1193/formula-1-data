{
 "cells": [
  {
   "cell_type": "code",
   "execution_count": 1,
   "id": "1ebf7f28",
   "metadata": {},
   "outputs": [],
   "source": [
    "import requests\n",
    "import json\n",
    "import pandas as pd\n",
    "import warnings\n",
    "warnings.filterwarnings(\"ignore\")"
   ]
  },
  {
   "cell_type": "code",
   "execution_count": 2,
   "id": "7213d88d",
   "metadata": {},
   "outputs": [],
   "source": [
    "url='https://ergast.com/api/f1/2022/22/results.json'"
   ]
  },
  {
   "cell_type": "code",
   "execution_count": 3,
   "id": "02779d98",
   "metadata": {},
   "outputs": [],
   "source": [
    "r= requests.get(url)\n",
    "json=r.json()"
   ]
  },
  {
   "cell_type": "code",
   "execution_count": 4,
   "id": "5065681f",
   "metadata": {},
   "outputs": [
    {
     "data": {
      "text/plain": [
       "dict_keys(['MRData'])"
      ]
     },
     "execution_count": 4,
     "metadata": {},
     "output_type": "execute_result"
    }
   ],
   "source": [
    "json.keys()"
   ]
  },
  {
   "cell_type": "code",
   "execution_count": 5,
   "id": "80b08f1e",
   "metadata": {},
   "outputs": [],
   "source": [
    "results=pd.DataFrame(json['MRData']['RaceTable']['Races'][0]['Results'])"
   ]
  },
  {
   "cell_type": "code",
   "execution_count": 6,
   "id": "8b4f16cb",
   "metadata": {},
   "outputs": [
    {
     "data": {
      "text/html": [
       "<div>\n",
       "<style scoped>\n",
       "    .dataframe tbody tr th:only-of-type {\n",
       "        vertical-align: middle;\n",
       "    }\n",
       "\n",
       "    .dataframe tbody tr th {\n",
       "        vertical-align: top;\n",
       "    }\n",
       "\n",
       "    .dataframe thead th {\n",
       "        text-align: right;\n",
       "    }\n",
       "</style>\n",
       "<table border=\"1\" class=\"dataframe\">\n",
       "  <thead>\n",
       "    <tr style=\"text-align: right;\">\n",
       "      <th></th>\n",
       "      <th>number</th>\n",
       "      <th>position</th>\n",
       "      <th>positionText</th>\n",
       "      <th>points</th>\n",
       "      <th>Driver</th>\n",
       "      <th>Constructor</th>\n",
       "      <th>grid</th>\n",
       "      <th>laps</th>\n",
       "      <th>status</th>\n",
       "      <th>Time</th>\n",
       "      <th>FastestLap</th>\n",
       "    </tr>\n",
       "  </thead>\n",
       "  <tbody>\n",
       "    <tr>\n",
       "      <th>0</th>\n",
       "      <td>1</td>\n",
       "      <td>1</td>\n",
       "      <td>1</td>\n",
       "      <td>25</td>\n",
       "      <td>{'driverId': 'max_verstappen', 'permanentNumbe...</td>\n",
       "      <td>{'constructorId': 'red_bull', 'url': 'http://e...</td>\n",
       "      <td>1</td>\n",
       "      <td>58</td>\n",
       "      <td>Finished</td>\n",
       "      <td>{'millis': '5265914', 'time': '1:27:45.914'}</td>\n",
       "      <td>{'rank': '6', 'lap': '54', 'Time': {'time': '1...</td>\n",
       "    </tr>\n",
       "    <tr>\n",
       "      <th>1</th>\n",
       "      <td>16</td>\n",
       "      <td>2</td>\n",
       "      <td>2</td>\n",
       "      <td>18</td>\n",
       "      <td>{'driverId': 'leclerc', 'permanentNumber': '16...</td>\n",
       "      <td>{'constructorId': 'ferrari', 'url': 'http://en...</td>\n",
       "      <td>3</td>\n",
       "      <td>58</td>\n",
       "      <td>Finished</td>\n",
       "      <td>{'millis': '5274685', 'time': '+8.771'}</td>\n",
       "      <td>{'rank': '10', 'lap': '48', 'Time': {'time': '...</td>\n",
       "    </tr>\n",
       "    <tr>\n",
       "      <th>2</th>\n",
       "      <td>11</td>\n",
       "      <td>3</td>\n",
       "      <td>3</td>\n",
       "      <td>15</td>\n",
       "      <td>{'driverId': 'perez', 'permanentNumber': '11',...</td>\n",
       "      <td>{'constructorId': 'red_bull', 'url': 'http://e...</td>\n",
       "      <td>2</td>\n",
       "      <td>58</td>\n",
       "      <td>Finished</td>\n",
       "      <td>{'millis': '5276007', 'time': '+10.093'}</td>\n",
       "      <td>{'rank': '4', 'lap': '52', 'Time': {'time': '1...</td>\n",
       "    </tr>\n",
       "    <tr>\n",
       "      <th>3</th>\n",
       "      <td>55</td>\n",
       "      <td>4</td>\n",
       "      <td>4</td>\n",
       "      <td>12</td>\n",
       "      <td>{'driverId': 'sainz', 'permanentNumber': '55',...</td>\n",
       "      <td>{'constructorId': 'ferrari', 'url': 'http://en...</td>\n",
       "      <td>4</td>\n",
       "      <td>58</td>\n",
       "      <td>Finished</td>\n",
       "      <td>{'millis': '5290806', 'time': '+24.892'}</td>\n",
       "      <td>{'rank': '3', 'lap': '50', 'Time': {'time': '1...</td>\n",
       "    </tr>\n",
       "    <tr>\n",
       "      <th>4</th>\n",
       "      <td>63</td>\n",
       "      <td>5</td>\n",
       "      <td>5</td>\n",
       "      <td>10</td>\n",
       "      <td>{'driverId': 'russell', 'permanentNumber': '63...</td>\n",
       "      <td>{'constructorId': 'mercedes', 'url': 'http://e...</td>\n",
       "      <td>6</td>\n",
       "      <td>58</td>\n",
       "      <td>Finished</td>\n",
       "      <td>{'millis': '5301802', 'time': '+35.888'}</td>\n",
       "      <td>{'rank': '2', 'lap': '48', 'Time': {'time': '1...</td>\n",
       "    </tr>\n",
       "  </tbody>\n",
       "</table>\n",
       "</div>"
      ],
      "text/plain": [
       "  number position positionText points  \\\n",
       "0      1        1            1     25   \n",
       "1     16        2            2     18   \n",
       "2     11        3            3     15   \n",
       "3     55        4            4     12   \n",
       "4     63        5            5     10   \n",
       "\n",
       "                                              Driver  \\\n",
       "0  {'driverId': 'max_verstappen', 'permanentNumbe...   \n",
       "1  {'driverId': 'leclerc', 'permanentNumber': '16...   \n",
       "2  {'driverId': 'perez', 'permanentNumber': '11',...   \n",
       "3  {'driverId': 'sainz', 'permanentNumber': '55',...   \n",
       "4  {'driverId': 'russell', 'permanentNumber': '63...   \n",
       "\n",
       "                                         Constructor grid laps    status  \\\n",
       "0  {'constructorId': 'red_bull', 'url': 'http://e...    1   58  Finished   \n",
       "1  {'constructorId': 'ferrari', 'url': 'http://en...    3   58  Finished   \n",
       "2  {'constructorId': 'red_bull', 'url': 'http://e...    2   58  Finished   \n",
       "3  {'constructorId': 'ferrari', 'url': 'http://en...    4   58  Finished   \n",
       "4  {'constructorId': 'mercedes', 'url': 'http://e...    6   58  Finished   \n",
       "\n",
       "                                           Time  \\\n",
       "0  {'millis': '5265914', 'time': '1:27:45.914'}   \n",
       "1       {'millis': '5274685', 'time': '+8.771'}   \n",
       "2      {'millis': '5276007', 'time': '+10.093'}   \n",
       "3      {'millis': '5290806', 'time': '+24.892'}   \n",
       "4      {'millis': '5301802', 'time': '+35.888'}   \n",
       "\n",
       "                                          FastestLap  \n",
       "0  {'rank': '6', 'lap': '54', 'Time': {'time': '1...  \n",
       "1  {'rank': '10', 'lap': '48', 'Time': {'time': '...  \n",
       "2  {'rank': '4', 'lap': '52', 'Time': {'time': '1...  \n",
       "3  {'rank': '3', 'lap': '50', 'Time': {'time': '1...  \n",
       "4  {'rank': '2', 'lap': '48', 'Time': {'time': '1...  "
      ]
     },
     "execution_count": 6,
     "metadata": {},
     "output_type": "execute_result"
    }
   ],
   "source": [
    "results.head()"
   ]
  },
  {
   "cell_type": "code",
   "execution_count": 7,
   "id": "78316d64",
   "metadata": {},
   "outputs": [
    {
     "data": {
      "text/plain": [
       "0      max_verstappen\n",
       "1             leclerc\n",
       "2               perez\n",
       "3               sainz\n",
       "4             russell\n",
       "5              norris\n",
       "6                ocon\n",
       "7              stroll\n",
       "8           ricciardo\n",
       "9              vettel\n",
       "10            tsunoda\n",
       "11               zhou\n",
       "12              albon\n",
       "13              gasly\n",
       "14             bottas\n",
       "15    mick_schumacher\n",
       "16    kevin_magnussen\n",
       "17           hamilton\n",
       "18             latifi\n",
       "19             alonso\n",
       "Name: Driver, dtype: object"
      ]
     },
     "execution_count": 7,
     "metadata": {},
     "output_type": "execute_result"
    }
   ],
   "source": [
    "results['Driver'].apply(lambda x:x['driverId'])"
   ]
  },
  {
   "cell_type": "code",
   "execution_count": 8,
   "id": "e91a9de0",
   "metadata": {},
   "outputs": [
    {
     "data": {
      "text/plain": [
       "['max_verstappen',\n",
       " 'leclerc',\n",
       " 'perez',\n",
       " 'sainz',\n",
       " 'russell',\n",
       " 'norris',\n",
       " 'ocon',\n",
       " 'stroll',\n",
       " 'ricciardo',\n",
       " 'vettel',\n",
       " 'tsunoda',\n",
       " 'zhou',\n",
       " 'albon',\n",
       " 'gasly',\n",
       " 'bottas',\n",
       " 'mick_schumacher',\n",
       " 'kevin_magnussen',\n",
       " 'hamilton',\n",
       " 'latifi',\n",
       " 'alonso']"
      ]
     },
     "execution_count": 8,
     "metadata": {},
     "output_type": "execute_result"
    }
   ],
   "source": [
    "d=[]\n",
    "for i in range(len(results['Driver'])):\n",
    "    c=results['Driver'][i]['driverId']\n",
    "    d.append(c)\n",
    "d"
   ]
  },
  {
   "cell_type": "code",
   "execution_count": 9,
   "id": "127286e4",
   "metadata": {},
   "outputs": [],
   "source": [
    "g=results['Constructor'].apply(lambda x:x['constructorId'])"
   ]
  },
  {
   "cell_type": "code",
   "execution_count": 10,
   "id": "0892f5de",
   "metadata": {},
   "outputs": [
    {
     "data": {
      "text/plain": [
       "0      6\n",
       "1     10\n",
       "2      4\n",
       "3      3\n",
       "4      2\n",
       "5      1\n",
       "6      5\n",
       "7      9\n",
       "8     18\n",
       "9     15\n",
       "10     7\n",
       "11     8\n",
       "12    13\n",
       "13    19\n",
       "14    16\n",
       "15    12\n",
       "16    20\n",
       "17    11\n",
       "18    14\n",
       "19    17\n",
       "Name: FastestLap, dtype: object"
      ]
     },
     "execution_count": 10,
     "metadata": {},
     "output_type": "execute_result"
    }
   ],
   "source": [
    "results['FastestLap'].apply(lambda x:x['rank'])"
   ]
  },
  {
   "cell_type": "code",
   "execution_count": 11,
   "id": "33f7e360",
   "metadata": {},
   "outputs": [
    {
     "data": {
      "text/plain": [
       "[1, 2, 3, 4, 5, 6, 7, 8, 9, 10, 11, 12, 13, 14, 15, 16, 17, 18, 19, 20]"
      ]
     },
     "execution_count": 11,
     "metadata": {},
     "output_type": "execute_result"
    }
   ],
   "source": [
    "a=[]\n",
    "for i in range(len(results['position'])):\n",
    "    b=results['position'][i]\n",
    "    a.append(int(b))\n",
    "a"
   ]
  },
  {
   "cell_type": "code",
   "execution_count": null,
   "id": "1c883ba5",
   "metadata": {},
   "outputs": [],
   "source": []
  },
  {
   "cell_type": "code",
   "execution_count": 12,
   "id": "7941c98e",
   "metadata": {},
   "outputs": [
    {
     "data": {
      "text/plain": [
       "[1, 2, 3, 4, 5, 6, 7, 8, 9, 10, 11, 12, 13, 14, 15, 16, 17, 18, 19, 20]"
      ]
     },
     "execution_count": 12,
     "metadata": {},
     "output_type": "execute_result"
    }
   ],
   "source": [
    "a=[]\n",
    "for i in range(len(results['position'])):\n",
    "    b=results['position'][i]\n",
    "    a.append(int(b))\n",
    "a"
   ]
  }
 ],
 "metadata": {
  "kernelspec": {
   "display_name": "Python 3 (ipykernel)",
   "language": "python",
   "name": "python3"
  },
  "language_info": {
   "codemirror_mode": {
    "name": "ipython",
    "version": 3
   },
   "file_extension": ".py",
   "mimetype": "text/x-python",
   "name": "python",
   "nbconvert_exporter": "python",
   "pygments_lexer": "ipython3",
   "version": "3.9.15"
  }
 },
 "nbformat": 4,
 "nbformat_minor": 5
}
