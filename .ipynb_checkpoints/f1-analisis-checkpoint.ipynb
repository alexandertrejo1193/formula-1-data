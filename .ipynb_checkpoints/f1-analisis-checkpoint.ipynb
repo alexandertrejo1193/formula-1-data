{
 "cells": [
  {
   "cell_type": "markdown",
   "id": "e50f4601",
   "metadata": {},
   "source": [
    "*Por temas esteticos, las tablas que se impriman van a tener head(), que significa que imprimirá solo las primeras 5 lineas"
   ]
  },
  {
   "cell_type": "markdown",
   "id": "7e5bb58b",
   "metadata": {},
   "source": [
    "# Librerias"
   ]
  },
  {
   "cell_type": "code",
   "execution_count": 1,
   "id": "e44b3139",
   "metadata": {},
   "outputs": [],
   "source": [
    "import pandas as pd\n",
    "import json\n",
    "import requests"
   ]
  },
  {
   "cell_type": "markdown",
   "id": "ba0e65b8",
   "metadata": {},
   "source": [
    "#  Resultados de la F1"
   ]
  },
  {
   "cell_type": "code",
   "execution_count": 2,
   "id": "0bcfcb40",
   "metadata": {},
   "outputs": [
    {
     "data": {
      "text/html": [
       "<div>\n",
       "<style scoped>\n",
       "    .dataframe tbody tr th:only-of-type {\n",
       "        vertical-align: middle;\n",
       "    }\n",
       "\n",
       "    .dataframe tbody tr th {\n",
       "        vertical-align: top;\n",
       "    }\n",
       "\n",
       "    .dataframe thead th {\n",
       "        text-align: right;\n",
       "    }\n",
       "</style>\n",
       "<table border=\"1\" class=\"dataframe\">\n",
       "  <thead>\n",
       "    <tr style=\"text-align: right;\">\n",
       "      <th></th>\n",
       "      <th>number</th>\n",
       "      <th>position</th>\n",
       "      <th>positionText</th>\n",
       "      <th>points</th>\n",
       "      <th>Driver</th>\n",
       "      <th>Constructor</th>\n",
       "      <th>grid</th>\n",
       "      <th>laps</th>\n",
       "      <th>status</th>\n",
       "      <th>Time</th>\n",
       "      <th>FastestLap</th>\n",
       "    </tr>\n",
       "  </thead>\n",
       "  <tbody>\n",
       "    <tr>\n",
       "      <th>0</th>\n",
       "      <td>16</td>\n",
       "      <td>1</td>\n",
       "      <td>1</td>\n",
       "      <td>26</td>\n",
       "      <td>{'driverId': 'leclerc', 'permanentNumber': '16...</td>\n",
       "      <td>{'constructorId': 'ferrari', 'url': 'http://en...</td>\n",
       "      <td>1</td>\n",
       "      <td>57</td>\n",
       "      <td>Finished</td>\n",
       "      <td>{'millis': '5853584', 'time': '1:37:33.584'}</td>\n",
       "      <td>{'rank': '1', 'lap': '51', 'Time': {'time': '1...</td>\n",
       "    </tr>\n",
       "    <tr>\n",
       "      <th>1</th>\n",
       "      <td>55</td>\n",
       "      <td>2</td>\n",
       "      <td>2</td>\n",
       "      <td>18</td>\n",
       "      <td>{'driverId': 'sainz', 'permanentNumber': '55',...</td>\n",
       "      <td>{'constructorId': 'ferrari', 'url': 'http://en...</td>\n",
       "      <td>3</td>\n",
       "      <td>57</td>\n",
       "      <td>Finished</td>\n",
       "      <td>{'millis': '5859182', 'time': '+5.598'}</td>\n",
       "      <td>{'rank': '3', 'lap': '52', 'Time': {'time': '1...</td>\n",
       "    </tr>\n",
       "    <tr>\n",
       "      <th>2</th>\n",
       "      <td>44</td>\n",
       "      <td>3</td>\n",
       "      <td>3</td>\n",
       "      <td>15</td>\n",
       "      <td>{'driverId': 'hamilton', 'permanentNumber': '4...</td>\n",
       "      <td>{'constructorId': 'mercedes', 'url': 'http://e...</td>\n",
       "      <td>5</td>\n",
       "      <td>57</td>\n",
       "      <td>Finished</td>\n",
       "      <td>{'millis': '5863259', 'time': '+9.675'}</td>\n",
       "      <td>{'rank': '5', 'lap': '53', 'Time': {'time': '1...</td>\n",
       "    </tr>\n",
       "    <tr>\n",
       "      <th>3</th>\n",
       "      <td>63</td>\n",
       "      <td>4</td>\n",
       "      <td>4</td>\n",
       "      <td>12</td>\n",
       "      <td>{'driverId': 'russell', 'permanentNumber': '63...</td>\n",
       "      <td>{'constructorId': 'mercedes', 'url': 'http://e...</td>\n",
       "      <td>9</td>\n",
       "      <td>57</td>\n",
       "      <td>Finished</td>\n",
       "      <td>{'millis': '5864795', 'time': '+11.211'}</td>\n",
       "      <td>{'rank': '6', 'lap': '56', 'Time': {'time': '1...</td>\n",
       "    </tr>\n",
       "    <tr>\n",
       "      <th>4</th>\n",
       "      <td>20</td>\n",
       "      <td>5</td>\n",
       "      <td>5</td>\n",
       "      <td>10</td>\n",
       "      <td>{'driverId': 'kevin_magnussen', 'permanentNumb...</td>\n",
       "      <td>{'constructorId': 'haas', 'url': 'http://en.wi...</td>\n",
       "      <td>7</td>\n",
       "      <td>57</td>\n",
       "      <td>Finished</td>\n",
       "      <td>{'millis': '5868338', 'time': '+14.754'}</td>\n",
       "      <td>{'rank': '8', 'lap': '53', 'Time': {'time': '1...</td>\n",
       "    </tr>\n",
       "  </tbody>\n",
       "</table>\n",
       "</div>"
      ],
      "text/plain": [
       "  number position positionText points  \\\n",
       "0     16        1            1     26   \n",
       "1     55        2            2     18   \n",
       "2     44        3            3     15   \n",
       "3     63        4            4     12   \n",
       "4     20        5            5     10   \n",
       "\n",
       "                                              Driver  \\\n",
       "0  {'driverId': 'leclerc', 'permanentNumber': '16...   \n",
       "1  {'driverId': 'sainz', 'permanentNumber': '55',...   \n",
       "2  {'driverId': 'hamilton', 'permanentNumber': '4...   \n",
       "3  {'driverId': 'russell', 'permanentNumber': '63...   \n",
       "4  {'driverId': 'kevin_magnussen', 'permanentNumb...   \n",
       "\n",
       "                                         Constructor grid laps    status  \\\n",
       "0  {'constructorId': 'ferrari', 'url': 'http://en...    1   57  Finished   \n",
       "1  {'constructorId': 'ferrari', 'url': 'http://en...    3   57  Finished   \n",
       "2  {'constructorId': 'mercedes', 'url': 'http://e...    5   57  Finished   \n",
       "3  {'constructorId': 'mercedes', 'url': 'http://e...    9   57  Finished   \n",
       "4  {'constructorId': 'haas', 'url': 'http://en.wi...    7   57  Finished   \n",
       "\n",
       "                                           Time  \\\n",
       "0  {'millis': '5853584', 'time': '1:37:33.584'}   \n",
       "1       {'millis': '5859182', 'time': '+5.598'}   \n",
       "2       {'millis': '5863259', 'time': '+9.675'}   \n",
       "3      {'millis': '5864795', 'time': '+11.211'}   \n",
       "4      {'millis': '5868338', 'time': '+14.754'}   \n",
       "\n",
       "                                          FastestLap  \n",
       "0  {'rank': '1', 'lap': '51', 'Time': {'time': '1...  \n",
       "1  {'rank': '3', 'lap': '52', 'Time': {'time': '1...  \n",
       "2  {'rank': '5', 'lap': '53', 'Time': {'time': '1...  \n",
       "3  {'rank': '6', 'lap': '56', 'Time': {'time': '1...  \n",
       "4  {'rank': '8', 'lap': '53', 'Time': {'time': '1...  "
      ]
     },
     "execution_count": 2,
     "metadata": {},
     "output_type": "execute_result"
    }
   ],
   "source": [
    "import warnings\n",
    "warnings.filterwarnings(\"ignore\")\n",
    "url = 'http://ergast.com/api/f1/2022/22.json'\n",
    "response = requests.get(url)\n",
    "content=json.loads(response.content)\n",
    "df_results_2022=pd.DataFrame()\n",
    "for race in range(1,23):\n",
    "    url='http://ergast.com/api/f1/2022/{}/results.json'\n",
    "    response=requests.get(url.format(race))\n",
    "    content=json.loads(response.content)\n",
    "    df_results_2022 = df_results_2022.append(content['MRData']['RaceTable']['Races'][0]['Results'])\n",
    "df_results_2022.head()"
   ]
  },
  {
   "cell_type": "markdown",
   "id": "a1f146b7",
   "metadata": {},
   "source": [
    "## Resultado de los pilotos"
   ]
  },
  {
   "cell_type": "markdown",
   "id": "c8af00de",
   "metadata": {},
   "source": [
    "### Manera 1 (por separado)"
   ]
  },
  {
   "cell_type": "code",
   "execution_count": 3,
   "id": "255b5d37",
   "metadata": {},
   "outputs": [
    {
     "data": {
      "text/plain": [
       "0    26\n",
       "1    18\n",
       "2    15\n",
       "3    12\n",
       "4    10\n",
       "Name: points, dtype: int64"
      ]
     },
     "execution_count": 3,
     "metadata": {},
     "output_type": "execute_result"
    }
   ],
   "source": [
    "df_results_2022['points']=df_results_2022.points.astype(int)\n",
    "df_results_2022['points'].head()"
   ]
  },
  {
   "cell_type": "code",
   "execution_count": 4,
   "id": "84bdad0d",
   "metadata": {},
   "outputs": [
    {
     "data": {
      "text/plain": [
       "0            leclerc\n",
       "1              sainz\n",
       "2           hamilton\n",
       "3            russell\n",
       "4    kevin_magnussen\n",
       "Name: Driver, dtype: object"
      ]
     },
     "execution_count": 4,
     "metadata": {},
     "output_type": "execute_result"
    }
   ],
   "source": [
    "Conductores=df_results_2022['Driver'].apply(lambda x: x['driverId'])\n",
    "Conductores.head()"
   ]
  },
  {
   "cell_type": "code",
   "execution_count": 5,
   "id": "89c1185c",
   "metadata": {},
   "outputs": [
    {
     "data": {
      "text/html": [
       "<div>\n",
       "<style scoped>\n",
       "    .dataframe tbody tr th:only-of-type {\n",
       "        vertical-align: middle;\n",
       "    }\n",
       "\n",
       "    .dataframe tbody tr th {\n",
       "        vertical-align: top;\n",
       "    }\n",
       "\n",
       "    .dataframe thead th {\n",
       "        text-align: right;\n",
       "    }\n",
       "</style>\n",
       "<table border=\"1\" class=\"dataframe\">\n",
       "  <thead>\n",
       "    <tr style=\"text-align: right;\">\n",
       "      <th></th>\n",
       "      <th>points</th>\n",
       "    </tr>\n",
       "    <tr>\n",
       "      <th>position</th>\n",
       "      <th></th>\n",
       "    </tr>\n",
       "  </thead>\n",
       "  <tbody>\n",
       "    <tr>\n",
       "      <th>1</th>\n",
       "      <td>557</td>\n",
       "    </tr>\n",
       "    <tr>\n",
       "      <th>2</th>\n",
       "      <td>402</td>\n",
       "    </tr>\n",
       "    <tr>\n",
       "      <th>3</th>\n",
       "      <td>331</td>\n",
       "    </tr>\n",
       "    <tr>\n",
       "      <th>4</th>\n",
       "      <td>265</td>\n",
       "    </tr>\n",
       "    <tr>\n",
       "      <th>5</th>\n",
       "      <td>222</td>\n",
       "    </tr>\n",
       "  </tbody>\n",
       "</table>\n",
       "</div>"
      ],
      "text/plain": [
       "          points\n",
       "position        \n",
       "1            557\n",
       "2            402\n",
       "3            331\n",
       "4            265\n",
       "5            222"
      ]
     },
     "execution_count": 5,
     "metadata": {},
     "output_type": "execute_result"
    }
   ],
   "source": [
    "df_results_2022.groupby(['position']).agg({'points':'sum'}).sort_values(by='points',ascending=False).head()"
   ]
  },
  {
   "cell_type": "code",
   "execution_count": 6,
   "id": "552d2724",
   "metadata": {},
   "outputs": [
    {
     "data": {
      "text/html": [
       "<div>\n",
       "<style scoped>\n",
       "    .dataframe tbody tr th:only-of-type {\n",
       "        vertical-align: middle;\n",
       "    }\n",
       "\n",
       "    .dataframe tbody tr th {\n",
       "        vertical-align: top;\n",
       "    }\n",
       "\n",
       "    .dataframe thead th {\n",
       "        text-align: right;\n",
       "    }\n",
       "</style>\n",
       "<table border=\"1\" class=\"dataframe\">\n",
       "  <thead>\n",
       "    <tr style=\"text-align: right;\">\n",
       "      <th></th>\n",
       "      <th>number</th>\n",
       "      <th>position</th>\n",
       "      <th>positionText</th>\n",
       "      <th>points</th>\n",
       "      <th>Driver</th>\n",
       "      <th>Constructor</th>\n",
       "      <th>grid</th>\n",
       "      <th>laps</th>\n",
       "      <th>status</th>\n",
       "      <th>Time</th>\n",
       "      <th>FastestLap</th>\n",
       "    </tr>\n",
       "  </thead>\n",
       "  <tbody>\n",
       "    <tr>\n",
       "      <th>0</th>\n",
       "      <td>16</td>\n",
       "      <td>1</td>\n",
       "      <td>1</td>\n",
       "      <td>26</td>\n",
       "      <td>{'driverId': 'leclerc', 'permanentNumber': '16...</td>\n",
       "      <td>{'constructorId': 'ferrari', 'url': 'http://en...</td>\n",
       "      <td>1</td>\n",
       "      <td>57</td>\n",
       "      <td>Finished</td>\n",
       "      <td>{'millis': '5853584', 'time': '1:37:33.584'}</td>\n",
       "      <td>{'rank': '1', 'lap': '51', 'Time': {'time': '1...</td>\n",
       "    </tr>\n",
       "    <tr>\n",
       "      <th>1</th>\n",
       "      <td>55</td>\n",
       "      <td>2</td>\n",
       "      <td>2</td>\n",
       "      <td>18</td>\n",
       "      <td>{'driverId': 'sainz', 'permanentNumber': '55',...</td>\n",
       "      <td>{'constructorId': 'ferrari', 'url': 'http://en...</td>\n",
       "      <td>3</td>\n",
       "      <td>57</td>\n",
       "      <td>Finished</td>\n",
       "      <td>{'millis': '5859182', 'time': '+5.598'}</td>\n",
       "      <td>{'rank': '3', 'lap': '52', 'Time': {'time': '1...</td>\n",
       "    </tr>\n",
       "    <tr>\n",
       "      <th>2</th>\n",
       "      <td>44</td>\n",
       "      <td>3</td>\n",
       "      <td>3</td>\n",
       "      <td>15</td>\n",
       "      <td>{'driverId': 'hamilton', 'permanentNumber': '4...</td>\n",
       "      <td>{'constructorId': 'mercedes', 'url': 'http://e...</td>\n",
       "      <td>5</td>\n",
       "      <td>57</td>\n",
       "      <td>Finished</td>\n",
       "      <td>{'millis': '5863259', 'time': '+9.675'}</td>\n",
       "      <td>{'rank': '5', 'lap': '53', 'Time': {'time': '1...</td>\n",
       "    </tr>\n",
       "    <tr>\n",
       "      <th>3</th>\n",
       "      <td>63</td>\n",
       "      <td>4</td>\n",
       "      <td>4</td>\n",
       "      <td>12</td>\n",
       "      <td>{'driverId': 'russell', 'permanentNumber': '63...</td>\n",
       "      <td>{'constructorId': 'mercedes', 'url': 'http://e...</td>\n",
       "      <td>9</td>\n",
       "      <td>57</td>\n",
       "      <td>Finished</td>\n",
       "      <td>{'millis': '5864795', 'time': '+11.211'}</td>\n",
       "      <td>{'rank': '6', 'lap': '56', 'Time': {'time': '1...</td>\n",
       "    </tr>\n",
       "    <tr>\n",
       "      <th>4</th>\n",
       "      <td>20</td>\n",
       "      <td>5</td>\n",
       "      <td>5</td>\n",
       "      <td>10</td>\n",
       "      <td>{'driverId': 'kevin_magnussen', 'permanentNumb...</td>\n",
       "      <td>{'constructorId': 'haas', 'url': 'http://en.wi...</td>\n",
       "      <td>7</td>\n",
       "      <td>57</td>\n",
       "      <td>Finished</td>\n",
       "      <td>{'millis': '5868338', 'time': '+14.754'}</td>\n",
       "      <td>{'rank': '8', 'lap': '53', 'Time': {'time': '1...</td>\n",
       "    </tr>\n",
       "  </tbody>\n",
       "</table>\n",
       "</div>"
      ],
      "text/plain": [
       "  number position positionText points  \\\n",
       "0     16        1            1     26   \n",
       "1     55        2            2     18   \n",
       "2     44        3            3     15   \n",
       "3     63        4            4     12   \n",
       "4     20        5            5     10   \n",
       "\n",
       "                                              Driver  \\\n",
       "0  {'driverId': 'leclerc', 'permanentNumber': '16...   \n",
       "1  {'driverId': 'sainz', 'permanentNumber': '55',...   \n",
       "2  {'driverId': 'hamilton', 'permanentNumber': '4...   \n",
       "3  {'driverId': 'russell', 'permanentNumber': '63...   \n",
       "4  {'driverId': 'kevin_magnussen', 'permanentNumb...   \n",
       "\n",
       "                                         Constructor grid laps    status  \\\n",
       "0  {'constructorId': 'ferrari', 'url': 'http://en...    1   57  Finished   \n",
       "1  {'constructorId': 'ferrari', 'url': 'http://en...    3   57  Finished   \n",
       "2  {'constructorId': 'mercedes', 'url': 'http://e...    5   57  Finished   \n",
       "3  {'constructorId': 'mercedes', 'url': 'http://e...    9   57  Finished   \n",
       "4  {'constructorId': 'haas', 'url': 'http://en.wi...    7   57  Finished   \n",
       "\n",
       "                                           Time  \\\n",
       "0  {'millis': '5853584', 'time': '1:37:33.584'}   \n",
       "1       {'millis': '5859182', 'time': '+5.598'}   \n",
       "2       {'millis': '5863259', 'time': '+9.675'}   \n",
       "3      {'millis': '5864795', 'time': '+11.211'}   \n",
       "4      {'millis': '5868338', 'time': '+14.754'}   \n",
       "\n",
       "                                          FastestLap  \n",
       "0  {'rank': '1', 'lap': '51', 'Time': {'time': '1...  \n",
       "1  {'rank': '3', 'lap': '52', 'Time': {'time': '1...  \n",
       "2  {'rank': '5', 'lap': '53', 'Time': {'time': '1...  \n",
       "3  {'rank': '6', 'lap': '56', 'Time': {'time': '1...  \n",
       "4  {'rank': '8', 'lap': '53', 'Time': {'time': '1...  "
      ]
     },
     "execution_count": 6,
     "metadata": {},
     "output_type": "execute_result"
    }
   ],
   "source": [
    "warnings.filterwarnings(\"ignore\")\n",
    "url = 'http://ergast.com/api/f1/2022/22.json'\n",
    "response = requests.get(url)\n",
    "content=json.loads(response.content)\n",
    "df_results_2022=pd.DataFrame()\n",
    "for race in range(1,23):\n",
    "    url='http://ergast.com/api/f1/2022/{}/results.json'\n",
    "    response=requests.get(url.format(race))\n",
    "    content=json.loads(response.content)\n",
    "    df_results_2022 = df_results_2022.append(content['MRData']['RaceTable']['Races'][0]['Results'])\n",
    "df_results_2022.head()"
   ]
  },
  {
   "cell_type": "markdown",
   "id": "4d223d79",
   "metadata": {},
   "source": [
    "### Manera 2 (grupal)"
   ]
  },
  {
   "cell_type": "code",
   "execution_count": 7,
   "id": "bb2547a8",
   "metadata": {},
   "outputs": [],
   "source": [
    "df_results_2022['Driver']=df_results_2022['Driver'].apply(lambda x:x['driverId'])"
   ]
  },
  {
   "cell_type": "code",
   "execution_count": 8,
   "id": "0341ab6d",
   "metadata": {},
   "outputs": [],
   "source": [
    "df_results_2022[\"points\"]=df_results_2022[\"points\"].astype(int)"
   ]
  },
  {
   "cell_type": "code",
   "execution_count": 9,
   "id": "bd055826",
   "metadata": {},
   "outputs": [
    {
     "data": {
      "text/html": [
       "<div>\n",
       "<style scoped>\n",
       "    .dataframe tbody tr th:only-of-type {\n",
       "        vertical-align: middle;\n",
       "    }\n",
       "\n",
       "    .dataframe tbody tr th {\n",
       "        vertical-align: top;\n",
       "    }\n",
       "\n",
       "    .dataframe thead th {\n",
       "        text-align: right;\n",
       "    }\n",
       "</style>\n",
       "<table border=\"1\" class=\"dataframe\">\n",
       "  <thead>\n",
       "    <tr style=\"text-align: right;\">\n",
       "      <th></th>\n",
       "      <th>points</th>\n",
       "    </tr>\n",
       "    <tr>\n",
       "      <th>Driver</th>\n",
       "      <th></th>\n",
       "    </tr>\n",
       "  </thead>\n",
       "  <tbody>\n",
       "    <tr>\n",
       "      <th>max_verstappen</th>\n",
       "      <td>433</td>\n",
       "    </tr>\n",
       "    <tr>\n",
       "      <th>perez</th>\n",
       "      <td>291</td>\n",
       "    </tr>\n",
       "    <tr>\n",
       "      <th>leclerc</th>\n",
       "      <td>291</td>\n",
       "    </tr>\n",
       "    <tr>\n",
       "      <th>russell</th>\n",
       "      <td>262</td>\n",
       "    </tr>\n",
       "    <tr>\n",
       "      <th>hamilton</th>\n",
       "      <td>233</td>\n",
       "    </tr>\n",
       "  </tbody>\n",
       "</table>\n",
       "</div>"
      ],
      "text/plain": [
       "                points\n",
       "Driver                \n",
       "max_verstappen     433\n",
       "perez              291\n",
       "leclerc            291\n",
       "russell            262\n",
       "hamilton           233"
      ]
     },
     "execution_count": 9,
     "metadata": {},
     "output_type": "execute_result"
    }
   ],
   "source": [
    "df_results_2022.groupby([\"Driver\"]).agg({'points':\"sum\"}).sort_values(by='points',ascending=False).head()"
   ]
  },
  {
   "cell_type": "markdown",
   "id": "2bdbfb47",
   "metadata": {},
   "source": [
    "## Resultado de constructores"
   ]
  },
  {
   "cell_type": "code",
   "execution_count": 10,
   "id": "8afeb9a9",
   "metadata": {},
   "outputs": [
    {
     "data": {
      "text/plain": [
       "0     ferrari\n",
       "1     ferrari\n",
       "2    mercedes\n",
       "3    mercedes\n",
       "4        haas\n",
       "Name: Constructor, dtype: object"
      ]
     },
     "execution_count": 10,
     "metadata": {},
     "output_type": "execute_result"
    }
   ],
   "source": [
    "df_results_2022['Constructor']=df_results_2022['Constructor'].apply(lambda x:x['constructorId'])\n",
    "df_results_2022['Constructor'].head()"
   ]
  },
  {
   "cell_type": "code",
   "execution_count": 11,
   "id": "46168dbe",
   "metadata": {},
   "outputs": [
    {
     "data": {
      "text/html": [
       "<div>\n",
       "<style scoped>\n",
       "    .dataframe tbody tr th:only-of-type {\n",
       "        vertical-align: middle;\n",
       "    }\n",
       "\n",
       "    .dataframe tbody tr th {\n",
       "        vertical-align: top;\n",
       "    }\n",
       "\n",
       "    .dataframe thead th {\n",
       "        text-align: right;\n",
       "    }\n",
       "</style>\n",
       "<table border=\"1\" class=\"dataframe\">\n",
       "  <thead>\n",
       "    <tr style=\"text-align: right;\">\n",
       "      <th></th>\n",
       "      <th>points</th>\n",
       "    </tr>\n",
       "    <tr>\n",
       "      <th>Constructor</th>\n",
       "      <th></th>\n",
       "    </tr>\n",
       "  </thead>\n",
       "  <tbody>\n",
       "    <tr>\n",
       "      <th>red_bull</th>\n",
       "      <td>724</td>\n",
       "    </tr>\n",
       "    <tr>\n",
       "      <th>ferrari</th>\n",
       "      <td>519</td>\n",
       "    </tr>\n",
       "    <tr>\n",
       "      <th>mercedes</th>\n",
       "      <td>495</td>\n",
       "    </tr>\n",
       "    <tr>\n",
       "      <th>alpine</th>\n",
       "      <td>170</td>\n",
       "    </tr>\n",
       "    <tr>\n",
       "      <th>mclaren</th>\n",
       "      <td>150</td>\n",
       "    </tr>\n",
       "    <tr>\n",
       "      <th>aston_martin</th>\n",
       "      <td>55</td>\n",
       "    </tr>\n",
       "    <tr>\n",
       "      <th>alfa</th>\n",
       "      <td>53</td>\n",
       "    </tr>\n",
       "    <tr>\n",
       "      <th>alphatauri</th>\n",
       "      <td>35</td>\n",
       "    </tr>\n",
       "    <tr>\n",
       "      <th>haas</th>\n",
       "      <td>33</td>\n",
       "    </tr>\n",
       "    <tr>\n",
       "      <th>williams</th>\n",
       "      <td>8</td>\n",
       "    </tr>\n",
       "  </tbody>\n",
       "</table>\n",
       "</div>"
      ],
      "text/plain": [
       "              points\n",
       "Constructor         \n",
       "red_bull         724\n",
       "ferrari          519\n",
       "mercedes         495\n",
       "alpine           170\n",
       "mclaren          150\n",
       "aston_martin      55\n",
       "alfa              53\n",
       "alphatauri        35\n",
       "haas              33\n",
       "williams           8"
      ]
     },
     "execution_count": 11,
     "metadata": {},
     "output_type": "execute_result"
    }
   ],
   "source": [
    "df_results_2022.groupby(['Constructor']).agg({'points':\"sum\"}).sort_values(by='points',ascending=False)"
   ]
  },
  {
   "cell_type": "markdown",
   "id": "b9d36243",
   "metadata": {},
   "source": [
    "## Los Grandes Premios (carreras)"
   ]
  },
  {
   "cell_type": "code",
   "execution_count": 12,
   "id": "d384a63d",
   "metadata": {},
   "outputs": [],
   "source": [
    "races={'season':[],'round':[],'raceName':[],'circuitId':[],'lat':[],'long':[],'country':[],'date':[],'url':[]}"
   ]
  },
  {
   "cell_type": "code",
   "execution_count": 13,
   "id": "cca65982",
   "metadata": {},
   "outputs": [
    {
     "data": {
      "text/plain": [
       "{'season': '2010',\n",
       " 'round': '1',\n",
       " 'url': 'http://en.wikipedia.org/wiki/2010_Bahrain_Grand_Prix',\n",
       " 'raceName': 'Bahrain Grand Prix',\n",
       " 'Circuit': {'circuitId': 'bahrain',\n",
       "  'url': 'http://en.wikipedia.org/wiki/Bahrain_International_Circuit',\n",
       "  'circuitName': 'Bahrain International Circuit',\n",
       "  'Location': {'lat': '26.0325',\n",
       "   'long': '50.5106',\n",
       "   'locality': 'Sakhir',\n",
       "   'country': 'Bahrain'}},\n",
       " 'date': '2010-03-14',\n",
       " 'time': '12:00:00Z'}"
      ]
     },
     "execution_count": 13,
     "metadata": {},
     "output_type": "execute_result"
    }
   ],
   "source": [
    "warnings.filterwarnings(\"ignore\")\n",
    "url='http://ergast.com/api/f1/2010.json'\n",
    "response = requests.get(url)\n",
    "content=json.loads(response.content)\n",
    "content['MRData']['RaceTable']['Races'][0]"
   ]
  },
  {
   "cell_type": "code",
   "execution_count": 14,
   "id": "a1e8a592",
   "metadata": {},
   "outputs": [],
   "source": [
    "for year in list(range(2010,2023)):\n",
    "    url='http://ergast.com/api/f1/{}.json'\n",
    "    response = requests.get(url.format(year))\n",
    "    content=json.loads(response.content)\n",
    "    for item in content['MRData']['RaceTable']['Races']:\n",
    "        races['season'].append(int(item['season']))\n",
    "        races['round'].append(int(item['round']))\n",
    "        races['raceName'].append(item['raceName'])\n",
    "        races['circuitId'].append(item['Circuit']['circuitId'])\n",
    "        races['lat'].append(item['Circuit']['Location']['lat'])\n",
    "        races['long'].append(item['Circuit']['Location']['long'])\n",
    "        races['country'].append(item['Circuit']['Location']['country'])\n",
    "        races['date'].append(item['date'])\n",
    "        races['url'].append(item['url'])"
   ]
  },
  {
   "cell_type": "markdown",
   "id": "4ca001b4",
   "metadata": {},
   "source": [
    "# Tabla races"
   ]
  },
  {
   "cell_type": "code",
   "execution_count": 15,
   "id": "2c80b5a3",
   "metadata": {},
   "outputs": [
    {
     "data": {
      "text/html": [
       "<div>\n",
       "<style scoped>\n",
       "    .dataframe tbody tr th:only-of-type {\n",
       "        vertical-align: middle;\n",
       "    }\n",
       "\n",
       "    .dataframe tbody tr th {\n",
       "        vertical-align: top;\n",
       "    }\n",
       "\n",
       "    .dataframe thead th {\n",
       "        text-align: right;\n",
       "    }\n",
       "</style>\n",
       "<table border=\"1\" class=\"dataframe\">\n",
       "  <thead>\n",
       "    <tr style=\"text-align: right;\">\n",
       "      <th></th>\n",
       "      <th>season</th>\n",
       "      <th>round</th>\n",
       "      <th>raceName</th>\n",
       "      <th>circuitId</th>\n",
       "      <th>lat</th>\n",
       "      <th>long</th>\n",
       "      <th>country</th>\n",
       "      <th>date</th>\n",
       "      <th>url</th>\n",
       "    </tr>\n",
       "  </thead>\n",
       "  <tbody>\n",
       "    <tr>\n",
       "      <th>0</th>\n",
       "      <td>2010</td>\n",
       "      <td>1</td>\n",
       "      <td>Bahrain Grand Prix</td>\n",
       "      <td>bahrain</td>\n",
       "      <td>26.0325</td>\n",
       "      <td>50.5106</td>\n",
       "      <td>Bahrain</td>\n",
       "      <td>2010-03-14</td>\n",
       "      <td>http://en.wikipedia.org/wiki/2010_Bahrain_Gran...</td>\n",
       "    </tr>\n",
       "    <tr>\n",
       "      <th>1</th>\n",
       "      <td>2010</td>\n",
       "      <td>2</td>\n",
       "      <td>Australian Grand Prix</td>\n",
       "      <td>albert_park</td>\n",
       "      <td>-37.8497</td>\n",
       "      <td>144.968</td>\n",
       "      <td>Australia</td>\n",
       "      <td>2010-03-28</td>\n",
       "      <td>http://en.wikipedia.org/wiki/2010_Australian_G...</td>\n",
       "    </tr>\n",
       "    <tr>\n",
       "      <th>2</th>\n",
       "      <td>2010</td>\n",
       "      <td>3</td>\n",
       "      <td>Malaysian Grand Prix</td>\n",
       "      <td>sepang</td>\n",
       "      <td>2.76083</td>\n",
       "      <td>101.738</td>\n",
       "      <td>Malaysia</td>\n",
       "      <td>2010-04-04</td>\n",
       "      <td>http://en.wikipedia.org/wiki/2010_Malaysian_Gr...</td>\n",
       "    </tr>\n",
       "    <tr>\n",
       "      <th>3</th>\n",
       "      <td>2010</td>\n",
       "      <td>4</td>\n",
       "      <td>Chinese Grand Prix</td>\n",
       "      <td>shanghai</td>\n",
       "      <td>31.3389</td>\n",
       "      <td>121.22</td>\n",
       "      <td>China</td>\n",
       "      <td>2010-04-18</td>\n",
       "      <td>http://en.wikipedia.org/wiki/2010_Chinese_Gran...</td>\n",
       "    </tr>\n",
       "    <tr>\n",
       "      <th>4</th>\n",
       "      <td>2010</td>\n",
       "      <td>5</td>\n",
       "      <td>Spanish Grand Prix</td>\n",
       "      <td>catalunya</td>\n",
       "      <td>41.57</td>\n",
       "      <td>2.26111</td>\n",
       "      <td>Spain</td>\n",
       "      <td>2010-05-09</td>\n",
       "      <td>http://en.wikipedia.org/wiki/2010_Spanish_Gran...</td>\n",
       "    </tr>\n",
       "  </tbody>\n",
       "</table>\n",
       "</div>"
      ],
      "text/plain": [
       "   season  round               raceName    circuitId       lat     long  \\\n",
       "0    2010      1     Bahrain Grand Prix      bahrain   26.0325  50.5106   \n",
       "1    2010      2  Australian Grand Prix  albert_park  -37.8497  144.968   \n",
       "2    2010      3   Malaysian Grand Prix       sepang   2.76083  101.738   \n",
       "3    2010      4     Chinese Grand Prix     shanghai   31.3389   121.22   \n",
       "4    2010      5     Spanish Grand Prix    catalunya     41.57  2.26111   \n",
       "\n",
       "     country        date                                                url  \n",
       "0    Bahrain  2010-03-14  http://en.wikipedia.org/wiki/2010_Bahrain_Gran...  \n",
       "1  Australia  2010-03-28  http://en.wikipedia.org/wiki/2010_Australian_G...  \n",
       "2   Malaysia  2010-04-04  http://en.wikipedia.org/wiki/2010_Malaysian_Gr...  \n",
       "3      China  2010-04-18  http://en.wikipedia.org/wiki/2010_Chinese_Gran...  \n",
       "4      Spain  2010-05-09  http://en.wikipedia.org/wiki/2010_Spanish_Gran...  "
      ]
     },
     "execution_count": 15,
     "metadata": {},
     "output_type": "execute_result"
    }
   ],
   "source": [
    "pd.DataFrame(races).head()"
   ]
  },
  {
   "cell_type": "code",
   "execution_count": 16,
   "id": "cdec129a",
   "metadata": {},
   "outputs": [
    {
     "name": "stdout",
     "output_type": "stream",
     "text": [
      "259\n",
      "259\n",
      "259\n",
      "259\n",
      "259\n",
      "259\n",
      "259\n",
      "259\n",
      "259\n"
     ]
    }
   ],
   "source": [
    "for i in races:\n",
    "    print(len(races[i]))"
   ]
  },
  {
   "cell_type": "code",
   "execution_count": 17,
   "id": "0cf3add2",
   "metadata": {},
   "outputs": [],
   "source": [
    "warnings.filterwarnings(\"ignore\")\n",
    "url='http://ergast.com/api/f1/seasons.json'\n",
    "response = requests.get(url)\n",
    "content=json.loads(response.content)\n"
   ]
  },
  {
   "cell_type": "code",
   "execution_count": 18,
   "id": "688ba190",
   "metadata": {},
   "outputs": [
    {
     "data": {
      "text/html": [
       "<div>\n",
       "<style scoped>\n",
       "    .dataframe tbody tr th:only-of-type {\n",
       "        vertical-align: middle;\n",
       "    }\n",
       "\n",
       "    .dataframe tbody tr th {\n",
       "        vertical-align: top;\n",
       "    }\n",
       "\n",
       "    .dataframe thead th {\n",
       "        text-align: right;\n",
       "    }\n",
       "</style>\n",
       "<table border=\"1\" class=\"dataframe\">\n",
       "  <thead>\n",
       "    <tr style=\"text-align: right;\">\n",
       "      <th></th>\n",
       "      <th>temporada</th>\n",
       "      <th>url</th>\n",
       "    </tr>\n",
       "  </thead>\n",
       "  <tbody>\n",
       "    <tr>\n",
       "      <th>0</th>\n",
       "      <td>1950</td>\n",
       "      <td>http://en.wikipedia.org/wiki/1950_Formula_One_...</td>\n",
       "    </tr>\n",
       "    <tr>\n",
       "      <th>1</th>\n",
       "      <td>1951</td>\n",
       "      <td>http://en.wikipedia.org/wiki/1951_Formula_One_...</td>\n",
       "    </tr>\n",
       "    <tr>\n",
       "      <th>2</th>\n",
       "      <td>1952</td>\n",
       "      <td>http://en.wikipedia.org/wiki/1952_Formula_One_...</td>\n",
       "    </tr>\n",
       "    <tr>\n",
       "      <th>3</th>\n",
       "      <td>1953</td>\n",
       "      <td>http://en.wikipedia.org/wiki/1953_Formula_One_...</td>\n",
       "    </tr>\n",
       "    <tr>\n",
       "      <th>4</th>\n",
       "      <td>1954</td>\n",
       "      <td>http://en.wikipedia.org/wiki/1954_Formula_One_...</td>\n",
       "    </tr>\n",
       "  </tbody>\n",
       "</table>\n",
       "</div>"
      ],
      "text/plain": [
       "   temporada                                                url\n",
       "0       1950  http://en.wikipedia.org/wiki/1950_Formula_One_...\n",
       "1       1951  http://en.wikipedia.org/wiki/1951_Formula_One_...\n",
       "2       1952  http://en.wikipedia.org/wiki/1952_Formula_One_...\n",
       "3       1953  http://en.wikipedia.org/wiki/1953_Formula_One_...\n",
       "4       1954  http://en.wikipedia.org/wiki/1954_Formula_One_..."
      ]
     },
     "execution_count": 18,
     "metadata": {},
     "output_type": "execute_result"
    }
   ],
   "source": [
    "Season ={'temporada':[],'url':[]}\n",
    "for item in content['MRData']['SeasonTable']['Seasons']:\n",
    "    Season['temporada'].append(int(item['season']))\n",
    "    Season['url'].append(item['url'])\n",
    "pd.DataFrame(Season).head()"
   ]
  }
 ],
 "metadata": {
  "kernelspec": {
   "display_name": "Python 3 (ipykernel)",
   "language": "python",
   "name": "python3"
  },
  "language_info": {
   "codemirror_mode": {
    "name": "ipython",
    "version": 3
   },
   "file_extension": ".py",
   "mimetype": "text/x-python",
   "name": "python",
   "nbconvert_exporter": "python",
   "pygments_lexer": "ipython3",
   "version": "3.9.15"
  }
 },
 "nbformat": 4,
 "nbformat_minor": 5
}
